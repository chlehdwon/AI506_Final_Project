{
 "cells": [
  {
   "cell_type": "code",
   "execution_count": 1,
   "metadata": {},
   "outputs": [],
   "source": [
    "hedge2node = dict()\n",
    "hedge2nodepos = dict()\n",
    "hedge2index = set()\n",
    "\n",
    "node2hedge = dict()\n",
    "node2index = set()\n",
    "\n",
    "numhedges = 0\n",
    "numnodes = 0"
   ]
  },
  {
   "cell_type": "code",
   "execution_count": 2,
   "metadata": {},
   "outputs": [
    {
     "name": "stdout",
     "output_type": "stream",
     "text": [
      "order,product,customer,color,size,group\n",
      "\n",
      "58415 849185\n"
     ]
    }
   ],
   "source": [
    "with open(\"./task1/task1_data.txt\", \"r\") as f:\n",
    "    print(f.readline())\n",
    "    while True:\n",
    "        line = f.readline()\n",
    "        if not line:\n",
    "            break\n",
    "        hidx, vidx, _, _, _, _ = line.strip().split(\",\")\n",
    "        if hidx not in hedge2index:\n",
    "            hedge2index.add(hidx)\n",
    "            numhedges += 1\n",
    "            hedge2node[hidx] = []\n",
    "            # hedge2nodepos[hidx] = []\n",
    "        \n",
    "        if vidx not in node2index:\n",
    "            node2index.add(vidx)\n",
    "            numnodes += 1\n",
    "            node2hedge[vidx] = []\n",
    "        \n",
    "    \n",
    "        hedge2node[hidx].append(vidx)\n",
    "        node2hedge[vidx].append(hidx)\n",
    "\n",
    "print(numnodes, numhedges)\n"
   ]
  },
  {
   "cell_type": "code",
   "execution_count": 3,
   "metadata": {},
   "outputs": [],
   "source": [
    "train_hindex = []\n",
    "valid_hindex = []\n",
    "test_hindex = []\n",
    "labels = [-1 for _ in range(numhedges)]"
   ]
  },
  {
   "cell_type": "code",
   "execution_count": 4,
   "metadata": {},
   "outputs": [],
   "source": [
    "with open(\"./task1/task1_train_label.txt\", \"r\") as f:\n",
    "    while True:\n",
    "        line = f.readline()\n",
    "        if not line:\n",
    "            break\n",
    "        hidx, label = line.strip().split('\\t')\n",
    "        train_hindex.append(hidx)\n",
    "        labels[int(hidx)] = label"
   ]
  },
  {
   "cell_type": "code",
   "execution_count": 5,
   "metadata": {},
   "outputs": [
    {
     "name": "stdout",
     "output_type": "stream",
     "text": [
      "0\n",
      "594430\n"
     ]
    }
   ],
   "source": [
    "print(labels[298957])\n",
    "print(len(train_hindex))"
   ]
  },
  {
   "cell_type": "code",
   "execution_count": 6,
   "metadata": {},
   "outputs": [],
   "source": [
    "with open(\"./task1/task1_valid_label.txt\", \"r\") as f:\n",
    "    while True:\n",
    "        line = f.readline()\n",
    "        if not line:\n",
    "            break\n",
    "        hidx, label = line.strip().split('\\t')\n",
    "        valid_hindex.append(hidx)\n",
    "        labels[int(hidx)] = label\n",
    "\n",
    "with open(\"./task1/task1_test_query.txt\", \"r\") as f:\n",
    "    while True:\n",
    "        line = f.readline()\n",
    "        if not line:\n",
    "            break\n",
    "        hidx = line.strip()\n",
    "        test_hindex.append(hidx)"
   ]
  },
  {
   "cell_type": "code",
   "execution_count": 9,
   "metadata": {},
   "outputs": [
    {
     "name": "stdout",
     "output_type": "stream",
     "text": [
      "valid simple test\n",
      "0\n",
      "127377\n",
      "=====\n",
      "test simple test\n",
      "610749\n",
      "127378\n"
     ]
    }
   ],
   "source": [
    "print(\"valid simple test\")\n",
    "print(labels[529565])\n",
    "print(len(valid_hindex))\n",
    "print(\"=====\")\n",
    "print(\"test simple test\")\n",
    "print(test_hindex[0])\n",
    "print(len(test_hindex))"
   ]
  },
  {
   "cell_type": "code",
   "execution_count": 40,
   "metadata": {},
   "outputs": [],
   "source": [
    "for hidx in range(numhedges):\n",
    "    hedge2nodepos[str(hidx)] = [labels[hidx]] * len(hedge2node[str(hidx)])"
   ]
  },
  {
   "cell_type": "code",
   "execution_count": 41,
   "metadata": {},
   "outputs": [],
   "source": [
    "with open(\"./task1/hypergraph.txt\", \"w\") as f:\n",
    "    for hidx in range(numhedges):\n",
    "        line = [str(vi) for vi in hedge2node[str(hidx)]]\n",
    "        f.write(\"\\t\".join(line) + \"\\n\")\n",
    "\n",
    "with open(\"./task1/hypergraph_pos.txt\", \"w\") as f:\n",
    "    for hidx in range(numhedges):\n",
    "        line = [str(vi) for vi in hedge2nodepos[str(hidx)]]\n",
    "        f.write(\"\\t\".join(line) + \"\\n\")"
   ]
  },
  {
   "cell_type": "code",
   "execution_count": 15,
   "metadata": {},
   "outputs": [],
   "source": [
    "with open(\"./task1/valid_hindex_0.txt\", \"w\") as f:\n",
    "    for h in valid_hindex:\n",
    "        f.write(h + \"\\n\")\n",
    "with open(\"./task1/test_hindex_0.txt\", \"w\") as f:\n",
    "    for h in test_hindex:\n",
    "        f.write(h + \"\\n\")"
   ]
  }
 ],
 "metadata": {
  "kernelspec": {
   "display_name": "Python 3",
   "language": "python",
   "name": "python3"
  },
  "language_info": {
   "codemirror_mode": {
    "name": "ipython",
    "version": 3
   },
   "file_extension": ".py",
   "mimetype": "text/x-python",
   "name": "python",
   "nbconvert_exporter": "python",
   "pygments_lexer": "ipython3",
   "version": "3.11.5"
  }
 },
 "nbformat": 4,
 "nbformat_minor": 2
}
