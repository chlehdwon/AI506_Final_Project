{
 "cells": [
  {
   "cell_type": "code",
   "execution_count": 54,
   "metadata": {},
   "outputs": [],
   "source": [
    "hedge2node = dict()\n",
    "hedge2nodepos = dict()\n",
    "hedge2index = set()\n",
    "\n",
    "node2hedge = dict()\n",
    "node2index = set()\n",
    "\n",
    "numhedges = 0\n",
    "numnodes = 0"
   ]
  },
  {
   "cell_type": "code",
   "execution_count": 55,
   "metadata": {},
   "outputs": [
    {
     "name": "stdout",
     "output_type": "stream",
     "text": [
      "58415 849185\n"
     ]
    }
   ],
   "source": [
    "with open(\"./task2/task2_data.txt\", \"r\") as f:\n",
    "    f.readline()\n",
    "    while True:\n",
    "        line = f.readline()\n",
    "        if not line:\n",
    "            break\n",
    "        hidx, vidx, _, _, _, _ = line.strip().split(\",\")\n",
    "        if hidx not in hedge2index:\n",
    "            hedge2index.add(hidx)\n",
    "            numhedges += 1\n",
    "            hedge2node[hidx] = []\n",
    "        \n",
    "        if vidx not in node2index:\n",
    "            node2index.add(vidx)\n",
    "            numnodes += 1\n",
    "            node2hedge[vidx] = []\n",
    "        \n",
    "    \n",
    "        hedge2node[hidx].append(vidx)\n",
    "        node2hedge[vidx].append(hidx)\n",
    "\n",
    "print(numnodes, numhedges)\n"
   ]
  },
  {
   "cell_type": "code",
   "execution_count": 56,
   "metadata": {},
   "outputs": [],
   "source": [
    "train_hindex = []\n",
    "valid_hindex = []\n",
    "test_hindex = []\n",
    "labels = [{} for _ in range(numhedges)]"
   ]
  },
  {
   "cell_type": "code",
   "execution_count": 57,
   "metadata": {},
   "outputs": [],
   "source": [
    "with open(\"./task2/task2_train_label.txt\", \"r\") as f:\n",
    "    while True:\n",
    "        line = f.readline()\n",
    "        if not line:\n",
    "            break\n",
    "        hidx, vidx, label = map(int, line.strip().split('\\t'))\n",
    "        train_hindex.append((hidx, vidx))\n",
    "        labels[hidx][vidx] = label"
   ]
  },
  {
   "cell_type": "code",
   "execution_count": 58,
   "metadata": {},
   "outputs": [
    {
     "name": "stdout",
     "output_type": "stream",
     "text": [
      "1\n",
      "1866383\n"
     ]
    }
   ],
   "source": [
    "print(labels[152158][43939])\n",
    "print(len(train_hindex))"
   ]
  },
  {
   "cell_type": "code",
   "execution_count": 59,
   "metadata": {},
   "outputs": [],
   "source": [
    "with open(\"./task2/task2_valid_label.txt\", \"r\") as f:\n",
    "    while True:\n",
    "        line = f.readline()\n",
    "        if not line:\n",
    "            break\n",
    "        hidx, vidx, label = map(int, line.strip().split('\\t'))\n",
    "        valid_hindex.append((hidx, vidx))\n",
    "        labels[hidx][vidx] = label\n",
    "\n",
    "with open(\"./task2/task2_test_query.txt\", \"r\") as f:\n",
    "    while True:\n",
    "        line = f.readline()\n",
    "        if not line:\n",
    "            break\n",
    "        hidx, vidx = map(int, line.strip().split('\\t'))\n",
    "        test_hindex.append((hidx, vidx))\n",
    "        labels[hidx][vidx] = -1"
   ]
  },
  {
   "cell_type": "code",
   "execution_count": 60,
   "metadata": {},
   "outputs": [
    {
     "name": "stdout",
     "output_type": "stream",
     "text": [
      "valid simple test\n",
      "0\n",
      "399940\n",
      "=====\n",
      "test simple test\n",
      "(72094, 18334)\n",
      "-1\n",
      "399939\n"
     ]
    }
   ],
   "source": [
    "print(\"valid simple test\")\n",
    "print(labels[479016][11608])\n",
    "print(len(valid_hindex))\n",
    "print(\"=====\")\n",
    "print(\"test simple test\")\n",
    "print(test_hindex[0])\n",
    "print(labels[72094][18334])\n",
    "print(len(test_hindex))"
   ]
  },
  {
   "cell_type": "code",
   "execution_count": 61,
   "metadata": {},
   "outputs": [],
   "source": [
    "for hidx in range(numhedges):\n",
    "    hedge2nodepos[str(hidx)] = [str(labels[hidx][int(vi)]) for vi in hedge2node[str(hidx)]]"
   ]
  },
  {
   "cell_type": "code",
   "execution_count": 62,
   "metadata": {},
   "outputs": [],
   "source": [
    "with open(\"./task2/hypergraph.txt\", \"w\") as f:\n",
    "    for hidx in range(numhedges):\n",
    "        line = [str(vi) for vi in hedge2node[str(hidx)]]\n",
    "        f.write(\"\\t\".join(line) + \"\\n\")\n",
    "\n",
    "with open(\"./task2/hypergraph_pos.txt\", \"w\") as f:\n",
    "    for hidx in range(numhedges):\n",
    "        line = [str(vi) for vi in hedge2nodepos[str(hidx)]]\n",
    "        f.write(\"\\t\".join(line) + \"\\n\")"
   ]
  },
  {
   "cell_type": "code",
   "execution_count": 65,
   "metadata": {},
   "outputs": [],
   "source": [
    "with open(\"./task2/valid_hindex_0.txt\", \"w\") as f:\n",
    "    for hvi in valid_hindex:\n",
    "        line = [str(idx) for idx in list(hvi)]\n",
    "        f.write(\"\\t\".join(line) + \"\\n\")\n",
    "\n",
    "with open(\"./task2/test_hindex_0.txt\", \"w\") as f:\n",
    "    for hvi in test_hindex:\n",
    "        line = [str(idx) for idx in list(hvi)]\n",
    "        f.write(\"\\t\".join(line) + \"\\n\")"
   ]
  }
 ],
 "metadata": {
  "kernelspec": {
   "display_name": "Python 3",
   "language": "python",
   "name": "python3"
  },
  "language_info": {
   "codemirror_mode": {
    "name": "ipython",
    "version": 3
   },
   "file_extension": ".py",
   "mimetype": "text/x-python",
   "name": "python",
   "nbconvert_exporter": "python",
   "pygments_lexer": "ipython3",
   "version": "3.11.5"
  }
 },
 "nbformat": 4,
 "nbformat_minor": 2
}
