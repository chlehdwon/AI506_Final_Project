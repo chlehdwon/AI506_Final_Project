{
 "cells": [
  {
   "cell_type": "code",
   "execution_count": 3,
   "id": "494c37ca",
   "metadata": {},
   "outputs": [],
   "source": [
    "import numpy as np\n",
    "import matplotlib.pylab as plt\n",
    "import scipy.sparse as sparse\n",
    "from scipy.sparse import csr_matrix\n",
    "from scipy.stats import truncnorm \n",
    "import pickle\n",
    "from collections import defaultdict\n",
    "\n",
    "%matplotlib inline"
   ]
  },
  {
   "cell_type": "markdown",
   "id": "aaa86e38",
   "metadata": {},
   "source": [
    "### Replace h_mat.pkl with predicted matrix"
   ]
  },
  {
   "cell_type": "code",
   "execution_count": 4,
   "id": "bbc6f13d",
   "metadata": {},
   "outputs": [
    {
     "name": "stdout",
     "output_type": "stream",
     "text": [
      "6000 9675\n"
     ]
    }
   ],
   "source": [
    "# n : nodes, m : hyperedges\n",
    "with open(\"../data/h_mat.pkl\", 'rb') as f:\n",
    "    h = pickle.load(f)\n",
    "n, m = h.shape\n",
    "\n",
    "# make indexing dictionary!\n",
    "hedge2node = []\n",
    "hedge2nodepos = []\n",
    "hedge2index = {} # h -> h_prime\n",
    "index2hedge = {} # h_prime -> h\n",
    "\n",
    "node2hedge = []\n",
    "node2index = {} # v -> v_prime\n",
    "index2node = {} # v_prime -> v\n",
    "\n",
    "numhedges = 0\n",
    "numnodes = 0\n",
    "\n",
    "h_coo = h.tocoo()\n",
    "for vidx, hidx, vw in zip(h_coo.row, h_coo.col, h_coo.data):\n",
    "    if hidx not in hedge2index:\n",
    "        hedge2index[hidx] = numhedges\n",
    "        index2hedge[numhedges] = hidx\n",
    "        numhedges += 1\n",
    "        hedge2node.append([])\n",
    "        hedge2nodepos.append([])\n",
    "    \n",
    "    if vidx not in node2index:\n",
    "        node2index[vidx] = numnodes\n",
    "        index2node[numnodes] = vidx\n",
    "        numnodes += 1\n",
    "        node2hedge.append([])\n",
    "    \n",
    "    re_hidx = hedge2index[hidx]\n",
    "    re_vidx = node2index[vidx]\n",
    "    \n",
    "    hedge2node[re_hidx].append(re_vidx)\n",
    "    hedge2nodepos[re_hidx].append(vw)\n",
    "    node2hedge[re_vidx].append(re_hidx)\n",
    "\n",
    "print(numnodes, numhedges)"
   ]
  },
  {
   "cell_type": "code",
   "execution_count": 5,
   "id": "316774ca",
   "metadata": {},
   "outputs": [],
   "source": [
    "# check with \"data/h_mat.pkl\" and \"hypergraph.txt\"\n",
    "# == \"hedge2node\" and \"hypergraph.txt\"\n",
    "\n",
    "graph_fname = \"../../downstreamdata/Etail/hypergraph.txt\"\n",
    "\n",
    "with open(graph_fname, \"r\") as gf:\n",
    "    for h_prime, gline in enumerate(gf.readlines()):\n",
    "        nodes1 = [int(v) for v in gline.rstrip().split(\"\\t\")]\n",
    "        nodes2 = hedge2node[h_prime]\n",
    "        \n",
    "        assert sorted(nodes1) == sorted(nodes2)"
   ]
  },
  {
   "cell_type": "code",
   "execution_count": 9,
   "id": "d216147f",
   "metadata": {},
   "outputs": [],
   "source": [
    "predict_path = \"../../train_results/Etail/prediction.txt\""
   ]
  },
  {
   "cell_type": "code",
   "execution_count": 10,
   "id": "b0c227db",
   "metadata": {},
   "outputs": [],
   "source": [
    "nodes_for_h = []\n",
    "hedges_for_h = []\n",
    "data = []\n",
    "\n",
    "hidx = 0\n",
    "with open(predict_path, \"r\") as pf, open(graph_fname, \"r\") as gf:\n",
    "    for pline, gline in zip(pf.readlines(), gf.readlines()):\n",
    "        _weights = [int(float(p)) for p in pline.rstrip().split(\"\\t\")]\n",
    "        _nodes = [int(v) for v in gline.rstrip().split(\"\\t\")]\n",
    "        assert len(_weights) == len(_nodes)\n",
    "        \n",
    "        for v, w in zip(_nodes, _weights):\n",
    "            nodes_for_h.append(index2node[v])\n",
    "            hedges_for_h.append(index2hedge[hidx])\n",
    "            data.append(w)\n",
    "            \n",
    "        hidx += 1"
   ]
  },
  {
   "cell_type": "code",
   "execution_count": 11,
   "id": "70842673",
   "metadata": {},
   "outputs": [],
   "source": [
    "h_our = csr_matrix((data, (nodes_for_h, hedges_for_h)), shape=(n, m))"
   ]
  },
  {
   "cell_type": "code",
   "execution_count": 12,
   "id": "046ab4ba",
   "metadata": {},
   "outputs": [],
   "source": [
    "# same nonzero!\n",
    "check_dict = defaultdict(int)\n",
    "vs_our, hs_our = h_our.nonzero()\n",
    "for _v, _h in zip(vs_our, hs_our):\n",
    "    key = str(_v) + \"_\" + str(_h)\n",
    "    check_dict[key] = 1\n",
    "    \n",
    "vs_ori, hs_ori = h.nonzero()\n",
    "assert vs_our.shape[0] == vs_ori.shape[0]\n",
    "for _v, _h in zip(vs_ori, hs_ori):\n",
    "    key = str(_v) + \"_\" + str(_h)\n",
    "    assert check_dict[key] == 1"
   ]
  },
  {
   "cell_type": "code",
   "execution_count": 13,
   "id": "c082a254",
   "metadata": {},
   "outputs": [],
   "source": [
    "outputdir = \"../data/\"\n",
    "outputname = outputdir + \"h_WHATsNet_mat.pkl\""
   ]
  },
  {
   "cell_type": "code",
   "execution_count": 14,
   "id": "2944fab7",
   "metadata": {},
   "outputs": [],
   "source": [
    "with open(outputname, 'wb') as f:\n",
    "    pickle.dump(h_our, f)"
   ]
  },
  {
   "cell_type": "code",
   "execution_count": null,
   "id": "f1e3cadc",
   "metadata": {},
   "outputs": [],
   "source": []
  }
 ],
 "metadata": {
  "kernelspec": {
   "display_name": "Full on Python 3.7 (GPU)",
   "language": "python",
   "name": "python3"
  },
  "language_info": {
   "codemirror_mode": {
    "name": "ipython",
    "version": 3
   },
   "file_extension": ".py",
   "mimetype": "text/x-python",
   "name": "python",
   "nbconvert_exporter": "python",
   "pygments_lexer": "ipython3",
   "version": "3.7.11"
  }
 },
 "nbformat": 4,
 "nbformat_minor": 5
}
