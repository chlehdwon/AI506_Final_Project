{
 "cells": [
  {
   "cell_type": "markdown",
   "metadata": {},
   "source": [
    "Code from https://github.com/jianboli/HyperGo"
   ]
  },
  {
   "cell_type": "markdown",
   "metadata": {},
   "source": [
    "# Data structure"
   ]
  },
  {
   "cell_type": "markdown",
   "metadata": {},
   "source": [
    "This file simuate the data, and generate the following files:\n",
    "\n",
    "1. order_no.pkl: a list of IDs of baskets with length $n$ - nodes\n",
    "2. style_color.pkl: a list of IDs of products with length $m$ - hyper edges\n",
    "3. h_mat.pkl: H matrix denotes the hypergrah. It is a scipy.sparse.csr.csr_matrix with shape $n\\times m$\n",
    "4. r_mat.pkl: return matrix denotes which product is returned. Its shape is the same as H matrix. It follows the constrain of $R_{i,j}\\le H_{i,j}$, i.e. a return can only happen after a purchase.\n"
   ]
  },
  {
   "cell_type": "code",
   "execution_count": 1,
   "metadata": {},
   "outputs": [],
   "source": [
    "import numpy as np\n",
    "import matplotlib.pylab as plt\n",
    "import scipy.sparse as sparse\n",
    "from scipy.stats import truncnorm \n",
    "import pickle\n",
    "\n",
    "%matplotlib inline"
   ]
  },
  {
   "cell_type": "markdown",
   "metadata": {},
   "source": [
    "# Control parameters"
   ]
  },
  {
   "cell_type": "code",
   "execution_count": 11,
   "metadata": {},
   "outputs": [],
   "source": [
    "m = 10000\n",
    "n = 6000\n",
    "\n",
    "purchase_rate = 3.6\n",
    "\n",
    "single_baskets = 20342\n",
    "mult_baskets = n - single_baskets\n",
    "\n",
    "uniform_flag = False"
   ]
  },
  {
   "cell_type": "markdown",
   "metadata": {},
   "source": [
    "# Simulation"
   ]
  },
  {
   "cell_type": "code",
   "execution_count": 12,
   "metadata": {},
   "outputs": [
    {
     "data": {
      "text/plain": [
       "(array([ 628.,  661.,  708.,  680.,  662.,  681.,  672.,  717.,  658.,\n",
       "        3933.]),\n",
       " array([4.35014647e-04, 1.00391513e-01, 2.00348012e-01, 3.00304510e-01,\n",
       "        4.00261009e-01, 5.00217507e-01, 6.00174006e-01, 7.00130504e-01,\n",
       "        8.00087003e-01, 9.00043501e-01, 1.00000000e+00]),\n",
       " <BarContainer object of 10 artists>)"
      ]
     },
     "execution_count": 12,
     "metadata": {},
     "output_type": "execute_result"
    },
    {
     "data": {
      "image/png": "[encoded data removed]",
      "text/plain": [
       "<Figure size 432x288 with 1 Axes>"
      ]
     },
     "metadata": {
      "needs_background": "light"
     },
     "output_type": "display_data"
    }
   ],
   "source": [
    "order_no = range(n)\n",
    "style_color = range(m)\n",
    "\n",
    "# assign a return rate to each product with mean the given parameters. This turns out to be hard might\n",
    "def get_truncated_normal(n=1, mean=0, sd=1, low=0, upp=1):\n",
    "    return truncnorm((low - mean) / sd, (upp - mean) / sd, loc=mean, scale=sd).rvs(n)\n",
    "\n",
    "return_rate = get_truncated_normal(m, mean=0.5, sd = 1)\n",
    "return_rate_multi = return_rate * 1.5\n",
    "return_rate_multi = np.minimum(return_rate_multi, 1)\n",
    "plt.hist(return_rate_multi)"
   ]
  },
  {
   "cell_type": "code",
   "execution_count": 13,
   "metadata": {},
   "outputs": [
    {
     "name": "stdout",
     "output_type": "stream",
     "text": [
      "The average return rate of a single product: 0.495509\n",
      "The standard derivation of return rate: 0.283265\n"
     ]
    }
   ],
   "source": [
    "print(\"The average return rate of a single product: %f\" % return_rate.mean())\n",
    "print(\"The standard derivation of return rate: %f\" % return_rate.std())"
   ]
  },
  {
   "cell_type": "code",
   "execution_count": 14,
   "metadata": {},
   "outputs": [
    {
     "name": "stdout",
     "output_type": "stream",
     "text": [
      "The average return rate of a product if included purchased multi times in a basket: 0.665332\n",
      "The corresponding standard derivation: 0.330265\n"
     ]
    }
   ],
   "source": [
    "print(\"The average return rate of a product if included purchased multi times in a basket: %f\" % return_rate_multi.mean())\n",
    "print(\"The corresponding standard derivation: %f\" % return_rate_multi.std())"
   ]
  },
  {
   "cell_type": "code",
   "execution_count": 15,
   "metadata": {},
   "outputs": [
    {
     "name": "stderr",
     "output_type": "stream",
     "text": [
      "/usr/local/lib/python3.7/site-packages/ipykernel_launcher.py:5: DeprecationWarning: This function is deprecated. Please call randint(1, 10 + 1) instead\n",
      "  \"\"\"\n"
     ]
    }
   ],
   "source": [
    "# generate purchas basket-product pair. This is done for each basket.\n",
    "np.random.seed(1)\n",
    "pair = list()\n",
    "for i in range(n):\n",
    "    num_purchase = np.random.random_integers(1, 10) # randomly select number of product to purhcase\n",
    "    products = np.random.choice(m, num_purchase, replace=False)\n",
    "    num_products = np.random.choice(range(1,4), num_purchase, replace=True, p=[0.6, 0.3, 0.1]) # for each product, randomly choose number of purchase\n",
    "    returns = np.stack([np.random.binomial(1, return_rate[products[j]] if num_products[j] == 1 else return_rate_multi[products[j]], 1)[0]\n",
    "                       for j in range(num_purchase)])\n",
    "    pair.append(np.vstack([np.repeat(i, num_purchase), products, num_products, returns]).T)\n",
    "\n",
    "pair = np.vstack(pair)\n",
    "h = sparse.coo_matrix((pair[:,2], (pair[:,0], pair[:,1])), shape=(n, m))\n",
    "r = sparse.coo_matrix((pair[:,3], (pair[:,0], pair[:,1])), shape=(n, m))"
   ]
  },
  {
   "cell_type": "code",
   "execution_count": 16,
   "metadata": {},
   "outputs": [],
   "source": [
    "h = h.tocsr()\n",
    "r = r.tocsr()"
   ]
  },
  {
   "cell_type": "code",
   "execution_count": 20,
   "metadata": {},
   "outputs": [],
   "source": [
    "h_unif = h.sign()\n",
    "# print(h_unif)\n",
    "r_unif = r.sign()\n",
    "# print(r_unif)"
   ]
  },
  {
   "cell_type": "code",
   "execution_count": 21,
   "metadata": {},
   "outputs": [],
   "source": [
    "with open(\"../data/order_no.pkl\", 'wb') as f:\n",
    "    pickle.dump(order_no, f)\n",
    "with open('../data/style_color.pkl', 'wb') as f:\n",
    "    pickle.dump(style_color, f)\n",
    "with open('../data/h_mat.pkl', 'wb') as f:\n",
    "    pickle.dump(h, f)\n",
    "with open('../data/r_mat.pkl', 'wb') as f:\n",
    "    pickle.dump(r, f)\n",
    "# For Hypergraph w/o Labels\n",
    "with open('../data/h_unif_mat.pkl', 'wb') as f:\n",
    "    pickle.dump(h_unif, f)\n",
    "with open('../data/r_unif_mat.pkl', 'wb') as f:\n",
    "    pickle.dump(r_unif, f)"
   ]
  },
  {
   "cell_type": "code",
   "execution_count": 22,
   "metadata": {},
   "outputs": [
    {
     "name": "stdout",
     "output_type": "stream",
     "text": [
      "number of returns over purchase: 56%\n"
     ]
    }
   ],
   "source": [
    "print(\"number of returns over purchase: {0:.0%}\".format(float(sum(pair[:,3]))/sum(pair[:,2]>0)))"
   ]
  },
  {
   "cell_type": "code",
   "execution_count": null,
   "metadata": {},
   "outputs": [],
   "source": []
  }
 ],
 "metadata": {
  "kernelspec": {
   "display_name": "Full on Python 3.7 (GPU)",
   "language": "python",
   "name": "python3"
  },
  "language_info": {
   "codemirror_mode": {
    "name": "ipython",
    "version": 3
   },
   "file_extension": ".py",
   "mimetype": "text/x-python",
   "name": "python",
   "nbconvert_exporter": "python",
   "pygments_lexer": "ipython3",
   "version": "3.7.11"
  }
 },
 "nbformat": 4,
 "nbformat_minor": 4
}
