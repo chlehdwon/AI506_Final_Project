{
 "cells": [
  {
   "cell_type": "code",
   "execution_count": 3,
   "metadata": {},
   "outputs": [],
   "source": [
    "import pandas as pd\n",
    "from collections import defaultdict\n",
    "from matplotlib import pyplot as plt\n",
    "from sklearn.model_selection import train_test_split\n",
    "import numpy as np\n",
    "import pickle\n",
    "import scipy"
   ]
  },
  {
   "cell_type": "markdown",
   "metadata": {},
   "source": [
    "### Output\n",
    "\n",
    "Make dataset for training our model\n",
    "\n",
    "* hypergraph, hypergraph_pos, valid_hindex, test_hindex\n"
   ]
  },
  {
   "cell_type": "code",
   "execution_count": 4,
   "metadata": {},
   "outputs": [],
   "source": [
    "with open(\"../data/h_mat.pkl\", 'rb') as f:\n",
    "    h = pickle.load(f)\n",
    "h = scipy.sparse.coo_matrix(h)"
   ]
  },
  {
   "cell_type": "code",
   "execution_count": 5,
   "metadata": {},
   "outputs": [
    {
     "name": "stdout",
     "output_type": "stream",
     "text": [
      "6000 9675\n"
     ]
    }
   ],
   "source": [
    "# |V| * |E| = h\n",
    "\n",
    "hedge2node = []\n",
    "hedge2nodepos = []\n",
    "hedge2index = {}\n",
    "\n",
    "node2hedge = []\n",
    "node2index = {}\n",
    "\n",
    "numhedges = 0\n",
    "numnodes = 0\n",
    "\n",
    "for vidx, hidx, vw in zip(h.row, h.col, h.data):\n",
    "    if hidx not in hedge2index:\n",
    "        hedge2index[hidx] = numhedges\n",
    "        numhedges += 1\n",
    "        hedge2node.append([])\n",
    "        hedge2nodepos.append([])\n",
    "    \n",
    "    if vidx not in node2index:\n",
    "        node2index[vidx] = numnodes\n",
    "        numnodes += 1\n",
    "        node2hedge.append([])\n",
    "    \n",
    "    re_hidx = hedge2index[hidx]\n",
    "    re_vidx = node2index[vidx]\n",
    "    \n",
    "    hedge2node[re_hidx].append(re_vidx)\n",
    "    hedge2nodepos[re_hidx].append(vw)\n",
    "    node2hedge[re_vidx].append(re_hidx)\n",
    "\n",
    "print(numnodes, numhedges)"
   ]
  },
  {
   "cell_type": "code",
   "execution_count": 6,
   "metadata": {},
   "outputs": [],
   "source": [
    "with open(\"../../downstreamdata/Etail/hypergraph.txt\", \"w\") as f:\n",
    "    for hidx in range(numhedges):\n",
    "        line = [str(vi) for vi in hedge2node[hidx]]\n",
    "        f.write(\"\\t\".join(line) + \"\\n\")"
   ]
  },
  {
   "cell_type": "code",
   "execution_count": 7,
   "metadata": {},
   "outputs": [],
   "source": [
    "with open(\"../../downstreamdata/Etail/hypergraph_pos.txt\", \"w\") as f:\n",
    "    for hidx in range(numhedges):\n",
    "        line = [str(vpos) for vpos in hedge2nodepos[hidx]]\n",
    "        f.write(\"\\t\".join(line) + \"\\n\")"
   ]
  },
  {
   "cell_type": "code",
   "execution_count": 8,
   "metadata": {},
   "outputs": [],
   "source": [
    "_train_hindex, test_hindex = train_test_split(list(range(numhedges)), test_size=0.2, random_state=21)\n",
    "train_hindex, valid_hindex = train_test_split(_train_hindex, test_size=0.25, random_state=21)"
   ]
  },
  {
   "cell_type": "code",
   "execution_count": 9,
   "metadata": {},
   "outputs": [],
   "source": [
    " with open(\"../../downstreamdata/Etail/valid_hindex_0.txt\", \"w\") as f:\n",
    "    for h in valid_hindex:\n",
    "        f.write(str(h) + \"\\n\")\n",
    "with open(\"../../downstreamdata/Etail/test_hindex_0.txt\", \"w\") as f:\n",
    "    for h in test_hindex:\n",
    "        f.write(str(h) + \"\\n\")"
   ]
  },
  {
   "cell_type": "code",
   "execution_count": null,
   "metadata": {},
   "outputs": [],
   "source": []
  }
 ],
 "metadata": {
  "kernelspec": {
   "display_name": "Python 3",
   "language": "python",
   "name": "python3"
  },
  "language_info": {
   "codemirror_mode": {
    "name": "ipython",
    "version": 3
   },
   "file_extension": ".py",
   "mimetype": "text/x-python",
   "name": "python",
   "nbconvert_exporter": "python",
   "pygments_lexer": "ipython3",
   "version": "3.6.9"
  }
 },
 "nbformat": 4,
 "nbformat_minor": 5
}
